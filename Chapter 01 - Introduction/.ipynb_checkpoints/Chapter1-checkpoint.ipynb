{
  "cells": [
    {
      "cell_type": "markdown",
      "metadata": {
        "id": "VDp27XAda4FB"
      },
      "source": [
        "# Chapter 1 - Introduction: Key Concepts, Notation, Set Theory, Relations, and Functions\n",
        "\n",
        "This notebook contains code accompanying Chapter 1 Introduction: Key Concepts, Notation, Set Theory, Relations, and Functions in *Practical Discrete Mathematics* by Ryan T. White and Archana Tikayat Ray\n",
        "\n",
        "## Functions and Relations\n",
        "\n",
        "### The `sort()` function"
      ]
    },
    {
      "cell_type": "code",
      "execution_count": null,
      "metadata": {
        "id": "LvwYQjgsa4FE",
        "outputId": "7e0a44c2-9c8a-41d0-d336-7c7ca6f8ee67"
      },
      "outputs": [
        {
          "name": "stdout",
          "output_type": "stream",
          "text": [
            "[1, 2, 3, 4, 5, 8, 9, 12]\n",
            "['Brandon', 'Elise', 'Eugene', 'Kumar', 'Wyatt']\n"
          ]
        }
      ],
      "source": [
        "numbers = [3, 1, 4, 12, 8, 5, 2, 9]\n",
        "names = ['Wyatt', 'Brandon', 'Kumar', 'Eugene', 'Elise']\n",
        "\n",
        "# Apply the sort() function to the lists\n",
        "numbers.sort()\n",
        "names.sort()\n",
        "\n",
        "# Display the output\n",
        "print(numbers)\n",
        "print(names)"
      ]
    },
    {
      "cell_type": "markdown",
      "metadata": {
        "id": "u3ytJi17a4FG"
      },
      "source": [
        "### The `shuffle()` function"
      ]
    },
    {
      "cell_type": "code",
      "execution_count": null,
      "metadata": {
        "id": "qAOf8mAea4FH",
        "outputId": "8addb478-f7b4-4e27-8705-0e57b432d867"
      },
      "outputs": [
        {
          "name": "stdout",
          "output_type": "stream",
          "text": [
            "[12, 2, 1, 5, 9, 3, 8, 4]\n",
            "[4, 2, 8, 3, 1, 12, 5, 9]\n",
            "[4, 5, 1, 9, 3, 8, 12, 2]\n",
            "[9, 12, 2, 8, 5, 3, 4, 1]\n",
            "[9, 8, 4, 3, 12, 1, 5, 2]\n"
          ]
        }
      ],
      "source": [
        "import random\n",
        "\n",
        "# Set a random seed so the code is reproducible\n",
        "random.seed(1)\n",
        "\n",
        "# Run the random.shuffle() function 5 times and display the outputs\n",
        "for i in range(0,5):\n",
        "    numbers = [3, 1, 4, 12, 8, 5, 2, 9]\n",
        "    random.shuffle(numbers)\n",
        "    print(numbers)"
      ]
    },
    {
      "cell_type": "markdown",
      "source": [],
      "metadata": {
        "id": "lp7gEdPxbFmu"
      }
    },
    {
      "cell_type": "markdown",
      "source": [
        "Q1"
      ],
      "metadata": {
        "id": "o0oWXWuSgN7k"
      }
    },
    {
      "cell_type": "code",
      "source": [
        "numbers = [3, 1, 4, 12, 8, 5, 2, 9, 87, 97, 57,100]\n",
        "\n",
        "# Apply the sort() function to the lists\n",
        "numbers.sort()\n",
        "\n",
        "# Display the output\n",
        "print(numbers)\n"
      ],
      "metadata": {
        "id": "gd_0kg_qeVS8",
        "outputId": "7bfe0694-f456-4d3f-a06e-6552b9e0e7c1",
        "colab": {
          "base_uri": "https://localhost:8080/"
        }
      },
      "execution_count": 10,
      "outputs": [
        {
          "output_type": "stream",
          "name": "stdout",
          "text": [
            "[1, 2, 3, 4, 5, 8, 9, 12, 57, 87, 97, 100]\n"
          ]
        }
      ]
    },
    {
      "cell_type": "markdown",
      "source": [
        "Q2\n"
      ],
      "metadata": {
        "id": "utVcTV0QgP-t"
      }
    },
    {
      "cell_type": "code",
      "source": [
        "full_name = \"LIEW YOU QI\"\n",
        "num_chars = len(full_name)\n",
        "print(\"The number of characters in my full name is:\", num_chars)"
      ],
      "metadata": {
        "id": "gNXLqzBxfkZ1",
        "outputId": "3a20fd93-0737-4f0e-c5ee-41b1536a56cf",
        "colab": {
          "base_uri": "https://localhost:8080/"
        }
      },
      "execution_count": 3,
      "outputs": [
        {
          "output_type": "stream",
          "name": "stdout",
          "text": [
            "The number of characters in my full name is: 11\n"
          ]
        }
      ]
    }
  ],
  "metadata": {
    "kernelspec": {
      "display_name": "Python 3.7 (DL)",
      "language": "python",
      "name": "dl"
    },
    "language_info": {
      "codemirror_mode": {
        "name": "ipython",
        "version": 3
      },
      "file_extension": ".py",
      "mimetype": "text/x-python",
      "name": "python",
      "nbconvert_exporter": "python",
      "pygments_lexer": "ipython3",
      "version": "3.7.7"
    },
    "colab": {
      "provenance": []
    }
  },
  "nbformat": 4,
  "nbformat_minor": 0
}